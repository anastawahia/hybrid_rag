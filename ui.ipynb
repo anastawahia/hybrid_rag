{
 "cells": [
  {
   "cell_type": "markdown",
   "id": "cf8582ad",
   "metadata": {},
   "source": [
    "\n",
    "# Hybrid RAG – Update & Q&A (Notebook)\n",
    "This notebook provides two main parts:\n",
    "1. **Update/Build index** from your local `data/` folder using functions from `app.py`.\n",
    "2. **Ask questions** over the indexed content with optional filters.\n",
    "\n",
    "> Expected layout (same as your VS Code script):\n",
    "- `data/structured` → CSV/XLSX tables  \n",
    "- `data/unstructured` → PDF/TXT/MD/DOCX  \n"
   ]
  },
  {
   "cell_type": "code",
   "execution_count": 13,
   "id": "68c82f2c",
   "metadata": {},
   "outputs": [
    {
     "name": "stdout",
     "output_type": "stream",
     "text": [
      "Requirement already satisfied: ipywidgets in .\\.venv\\lib\\site-packages (8.1.7)\n",
      "Requirement already satisfied: comm>=0.1.3 in .\\.venv\\lib\\site-packages (from ipywidgets) (0.2.3)\n",
      "Requirement already satisfied: ipython>=6.1.0 in .\\.venv\\lib\\site-packages (from ipywidgets) (9.4.0)\n",
      "Requirement already satisfied: traitlets>=4.3.1 in .\\.venv\\lib\\site-packages (from ipywidgets) (5.14.3)\n",
      "Requirement already satisfied: widgetsnbextension~=4.0.14 in .\\.venv\\lib\\site-packages (from ipywidgets) (4.0.14)\n",
      "Requirement already satisfied: jupyterlab_widgets~=3.0.15 in .\\.venv\\lib\\site-packages (from ipywidgets) (3.0.15)\n",
      "Requirement already satisfied: colorama in .\\.venv\\lib\\site-packages (from ipython>=6.1.0->ipywidgets) (0.4.6)\n",
      "Requirement already satisfied: decorator in .\\.venv\\lib\\site-packages (from ipython>=6.1.0->ipywidgets) (5.2.1)\n",
      "Requirement already satisfied: ipython-pygments-lexers in .\\.venv\\lib\\site-packages (from ipython>=6.1.0->ipywidgets) (1.1.1)\n",
      "Requirement already satisfied: jedi>=0.16 in .\\.venv\\lib\\site-packages (from ipython>=6.1.0->ipywidgets) (0.19.2)\n",
      "Requirement already satisfied: matplotlib-inline in .\\.venv\\lib\\site-packages (from ipython>=6.1.0->ipywidgets) (0.1.7)\n",
      "Requirement already satisfied: prompt_toolkit<3.1.0,>=3.0.41 in .\\.venv\\lib\\site-packages (from ipython>=6.1.0->ipywidgets) (3.0.51)\n",
      "Requirement already satisfied: pygments>=2.4.0 in .\\.venv\\lib\\site-packages (from ipython>=6.1.0->ipywidgets) (2.19.2)\n",
      "Requirement already satisfied: stack_data in .\\.venv\\lib\\site-packages (from ipython>=6.1.0->ipywidgets) (0.6.3)\n",
      "Requirement already satisfied: typing_extensions>=4.6 in .\\.venv\\lib\\site-packages (from ipython>=6.1.0->ipywidgets) (4.14.1)\n",
      "Requirement already satisfied: wcwidth in .\\.venv\\lib\\site-packages (from prompt_toolkit<3.1.0,>=3.0.41->ipython>=6.1.0->ipywidgets) (0.2.13)\n",
      "Requirement already satisfied: parso<0.9.0,>=0.8.4 in .\\.venv\\lib\\site-packages (from jedi>=0.16->ipython>=6.1.0->ipywidgets) (0.8.4)\n",
      "Requirement already satisfied: executing>=1.2.0 in .\\.venv\\lib\\site-packages (from stack_data->ipython>=6.1.0->ipywidgets) (2.2.0)\n",
      "Requirement already satisfied: asttokens>=2.1.0 in .\\.venv\\lib\\site-packages (from stack_data->ipython>=6.1.0->ipywidgets) (3.0.0)\n",
      "Requirement already satisfied: pure-eval in .\\.venv\\lib\\site-packages (from stack_data->ipython>=6.1.0->ipywidgets) (0.2.3)\n",
      "Note: you may need to restart the kernel to use updated packages.\n",
      "Building/updating index from: D:\\attarat\\project1\\storage\n",
      "Creating fresh storage...\n",
      "Using embedding dimension: 384\n",
      "Storage initialized with empty FAISS index.\n",
      "⚠️ Creating new index...\n"
     ]
    },
    {
     "data": {
      "application/vnd.jupyter.widget-view+json": {
       "model_id": "5c6e78c692b44cb7a2502858a3b694f9",
       "version_major": 2,
       "version_minor": 0
      },
      "text/plain": [
       "Parsing nodes:   0%|          | 0/585 [00:00<?, ?it/s]"
      ]
     },
     "metadata": {},
     "output_type": "display_data"
    },
    {
     "data": {
      "application/vnd.jupyter.widget-view+json": {
       "model_id": "62f292177ad04aeebcac5b9582a703df",
       "version_major": 2,
       "version_minor": 0
      },
      "text/plain": [
       "Generating embeddings:   0%|          | 0/932 [00:00<?, ?it/s]"
      ]
     },
     "metadata": {},
     "output_type": "display_data"
    },
    {
     "name": "stderr",
     "output_type": "stream",
     "text": [
      "2025-08-23 15:49:32,970 - INFO - Loading llama_index.vector_stores.faiss.base from D:\\attarat\\project1\\storage\\default__vector_store.json.\n",
      "2025-08-23 15:49:33,007 - INFO - Loading llama_index.vector_stores.faiss.base from D:\\attarat\\project1\\storage\\default__vector_store.json.\n"
     ]
    },
    {
     "name": "stdout",
     "output_type": "stream",
     "text": [
      "\n",
      "Processing 585 documents...\n",
      "✓ Index built and persisted.\n",
      "\n",
      "Quick checks...\n",
      "OK: Storage folder found.\n",
      "Total vectors in FAISS index: 932\n",
      "\n",
      "Verifying coverage...\n",
      "Files in data: 4\n",
      "Files recorded in storage (manifest hits): 4\n",
      "FAISS vectors: 932\n",
      "\n",
      "Done.\n"
     ]
    }
   ],
   "source": [
    "\n",
    "# === Cell 1: Build / Update index ===\n",
    "# Make sure this notebook sits next to `app.py`, or adjust the path below.\n",
    "import sys, os\n",
    "from pathlib import Path\n",
    "%pip install ipywidgets\n",
    "\n",
    "# Add current dir to path so we can import app.py\n",
    "nb_dir = Path.cwd()\n",
    "if str(nb_dir) not in sys.path:\n",
    "    sys.path.insert(0, str(nb_dir))\n",
    "\n",
    "from app import (\n",
    "    build_or_update_index, check_storage, verify_coverage, STORAGE_DIR\n",
    ")\n",
    "\n",
    "print(\"Building/updating index from:\", STORAGE_DIR)\n",
    "index = build_or_update_index(STORAGE_DIR)\n",
    "\n",
    "print(\"\\nQuick checks...\")\n",
    "check_storage()\n",
    "print(\"\\nVerifying coverage...\")\n",
    "coverage = verify_coverage(verbose=True)\n",
    "print(\"\\nDone.\")\n"
   ]
  },
  {
   "cell_type": "code",
   "execution_count": 16,
   "id": "29fa1cb3",
   "metadata": {},
   "outputs": [],
   "source": [
    "\n",
    "# === Cell 2: Ask (programmatic) ===\n",
    "from app import ask_one\n",
    "\n",
    "def ask(query: str,\n",
    "        top_k: int = 6,\n",
    "        restrict: str | None = None,   # None | \"excel\" | \"csv\" | \"unstructured\" | \"all\"\n",
    "        file: str | None = None,\n",
    "        sheet: str | None = None,\n",
    "        include_sources: bool = True):\n",
    "    \"\"\"\n",
    "    Ask the indexed data. Use `restrict`, `file`, `sheet` to narrow the scope.\n",
    "    - restrict: None | \"excel\" | \"csv\" | \"unstructured\" | \"all\"\n",
    "    - file:     target file name (e.g., 'plant.xlsx' or 'report.pdf')\n",
    "    - sheet:    Excel sheet name (only for Excel queries)\n",
    "    \"\"\"\n",
    "    return ask_one(\n",
    "        query=query,\n",
    "        top_k=top_k,\n",
    "        include_sources=include_sources,\n",
    "        restrict=restrict,\n",
    "        file=file,\n",
    "        sheet=sheet,\n",
    "    )\n",
    "\n",
    "# Example usage (uncomment to try after building index):\n",
    "# print(ask(\"Summarize key findings.\"))\n",
    "# print(ask(\"List top 5 rows by 'Power'\", restrict=\"csv\"))\n",
    "# print(ask(\"Which rows have highest 'Voltage'?\", restrict=\"excel\", file=\"plant.xlsx\", sheet=\"Sheet1\"))\n"
   ]
  },
  {
   "cell_type": "code",
   "execution_count": 17,
   "id": "e26e2405",
   "metadata": {},
   "outputs": [
    {
     "data": {
      "application/vnd.jupyter.widget-view+json": {
       "model_id": "355914db25e4462c9986555531cf298e",
       "version_major": 2,
       "version_minor": 0
      },
      "text/plain": [
       "VBox(children=(Textarea(value='', description='Question', layout=Layout(height='90px', width='100%'), placehol…"
      ]
     },
     "metadata": {},
     "output_type": "display_data"
    },
    {
     "data": {
      "application/vnd.jupyter.widget-view+json": {
       "model_id": "03150a628a1c413fae7a9b4d8b87fa4d",
       "version_major": 2,
       "version_minor": 0
      },
      "text/plain": [
       "Output(layout=Layout(border_bottom='1px solid var(--jp-layout-color2)', border_left='1px solid var(--jp-layout…"
      ]
     },
     "metadata": {},
     "output_type": "display_data"
    }
   ],
   "source": [
    "\n",
    "# === Cell 3: Interactive Q&A (widgets) ===\n",
    "# Requires: ipywidgets\n",
    "# If not installed: pip install ipywidgets && enable widgets extension in your Jupyter environment\n",
    "import ipywidgets as widgets\n",
    "from IPython.display import display, Markdown, clear_output\n",
    "\n",
    "q_input = widgets.Textarea(\n",
    "    value=\"\",\n",
    "    placeholder=\"Type your question here...\",\n",
    "    description=\"Question\",\n",
    "    layout=widgets.Layout(width=\"100%\", height=\"90px\")\n",
    ")\n",
    "\n",
    "restrict_dd = widgets.Dropdown(\n",
    "    options=[(\"Auto (None)\", None),\n",
    "             (\"All\", \"all\"),\n",
    "             (\"CSV only\", \"csv\"),\n",
    "             (\"Excel only\", \"excel\"),\n",
    "             (\"Unstructured only\", \"unstructured\")],\n",
    "    value=None,\n",
    "    description=\"Restrict\"\n",
    ")\n",
    "\n",
    "file_input = widgets.Text(\n",
    "    value=\"\",\n",
    "    placeholder=\"Exact filename (optional), e.g., report.pdf or plant.xlsx\",\n",
    "    description=\"File\"\n",
    ")\n",
    "\n",
    "sheet_input = widgets.Text(\n",
    "    value=\"\",\n",
    "    placeholder=\"Excel sheet name (optional)\",\n",
    "    description=\"Sheet\"\n",
    ")\n",
    "\n",
    "topk_slider = widgets.IntSlider(\n",
    "    value=6, min=1, max=20, step=1, description=\"Top-K\"\n",
    ")\n",
    "\n",
    "run_btn = widgets.Button(\n",
    "    description=\"Ask\",\n",
    "    button_style=\"primary\",\n",
    "    tooltip=\"Run query\"\n",
    ")\n",
    "\n",
    "out = widgets.Output(layout={\"border\": \"1px solid var(--jp-layout-color2)\"})\n",
    "controls = widgets.VBox([q_input, restrict_dd, file_input, sheet_input, topk_slider, run_btn])\n",
    "display(controls, out)\n",
    "\n",
    "def on_run_clicked(b):\n",
    "    with out:\n",
    "        clear_output()\n",
    "        query = q_input.value.strip()\n",
    "        if not query:\n",
    "            display(Markdown(\"**Please enter a question.**\"))\n",
    "            return\n",
    "        try:\n",
    "            resp = ask(query=query,\n",
    "                       top_k=topk_slider.value,\n",
    "                       restrict=restrict_dd.value,\n",
    "                       file=file_input.value.strip() or None,\n",
    "                       sheet=sheet_input.value.strip() or None,\n",
    "                       include_sources=True)\n",
    "            # resp is expected to be string or an object convertible to string.\n",
    "            display(Markdown(f\"### Result\\n\\n{resp}\"))\n",
    "        except Exception as e:\n",
    "            display(Markdown(f\"**Error:** `{e}`\"))\n",
    "\n",
    "run_btn.on_click(on_run_clicked)\n"
   ]
  }
 ],
 "metadata": {
  "kernelspec": {
   "display_name": ".venv (3.11.9)",
   "language": "python",
   "name": "python3"
  },
  "language_info": {
   "codemirror_mode": {
    "name": "ipython",
    "version": 3
   },
   "file_extension": ".py",
   "mimetype": "text/x-python",
   "name": "python",
   "nbconvert_exporter": "python",
   "pygments_lexer": "ipython3",
   "version": "3.11.9"
  }
 },
 "nbformat": 4,
 "nbformat_minor": 5
}
